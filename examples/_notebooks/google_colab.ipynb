{
  "cells": [
    {
      "cell_type": "markdown",
      "metadata": {
        "id": "view-in-github",
        "colab_type": "text"
      },
      "source": [
        "<a href=\"https://colab.research.google.com/github/paddoum/ANImageBitmapRep/blob/master/examples/_notebooks/google_colab.ipynb\" target=\"_parent\"><img src=\"https://colab.research.google.com/assets/colab-badge.svg\" alt=\"Open In Colab\"/></a>"
      ]
    },
    {
      "cell_type": "markdown",
      "metadata": {
        "id": "fie8YrVfRT-U"
      },
      "source": [
        "### info"
      ]
    },
    {
      "cell_type": "markdown",
      "metadata": {
        "id": "y4u_kroEQFkP"
      },
      "source": [
        "This notebook is a basic setup for running [vsketch](https://github.com/abey79/vsketch) on Google Colab. Execute the following line once to setup vsketch in the notebook.\n",
        "\n",
        "Notebook made by [dark fractures.](https://www.darkfractures.com)"
      ]
    },
    {
      "cell_type": "code",
      "execution_count": 1,
      "metadata": {
        "colab": {
          "base_uri": "https://localhost:8080/"
        },
        "id": "ojK154g7bGlq",
        "outputId": "f9b27a6b-6948-4cf2-c083-2e38ee141b5a"
      },
      "outputs": [
        {
          "output_type": "stream",
          "name": "stdout",
          "text": [
            "\u001b[33mDEPRECATION: git+https://github.com/abey79/vsketch#egg=vsketch[colab] contains an egg fragment with a non-PEP 508 name pip 25.0 will enforce this behaviour change. A possible replacement is to use the req @ url syntax, and remove the egg fragment. Discussion can be found at https://github.com/pypa/pip/issues/11617\u001b[0m\u001b[33m\n",
            "\u001b[0mCollecting vsketch[colab]\n",
            "  Cloning https://github.com/abey79/vsketch to /tmp/pip-install-72at5wnl/vsketch_58b992c280c3461fa80201fe6d3bfba6\n",
            "  Running command git clone --filter=blob:none --quiet https://github.com/abey79/vsketch /tmp/pip-install-72at5wnl/vsketch_58b992c280c3461fa80201fe6d3bfba6\n",
            "  Resolved https://github.com/abey79/vsketch to commit 7a268ed9caee9a01b6f0cc791f82f98f5cfc8971\n",
            "  Installing build dependencies ... \u001b[?25l\u001b[?25hdone\n",
            "  Getting requirements to build wheel ... \u001b[?25l\u001b[?25hdone\n",
            "  Preparing metadata (pyproject.toml) ... \u001b[?25l\u001b[?25hdone\n",
            "\u001b[33mWARNING: vsketch 1.1.0 does not provide the extra 'colab'\u001b[0m\u001b[33m\n",
            "\u001b[0mCollecting PySide6>=6.3.2 (from vsketch[colab])\n",
            "  Downloading PySide6-6.7.1-cp39-abi3-manylinux_2_28_x86_64.whl (530 kB)\n",
            "\u001b[2K     \u001b[90m━━━━━━━━━━━━━━━━━━━━━━━━━━━━━━━━━━━━━━━━\u001b[0m \u001b[32m530.7/530.7 kB\u001b[0m \u001b[31m3.2 MB/s\u001b[0m eta \u001b[36m0:00:00\u001b[0m\n",
            "\u001b[?25hRequirement already satisfied: Shapely[vectorized]>=1.8.2 in /usr/local/lib/python3.10/dist-packages (from vsketch[colab]) (2.0.4)\n",
            "Collecting cookiecutter>=2.1 (from vsketch[colab])\n",
            "  Downloading cookiecutter-2.6.0-py3-none-any.whl (39 kB)\n",
            "Requirement already satisfied: matplotlib>=3.3.3 in /usr/local/lib/python3.10/dist-packages (from vsketch[colab]) (3.7.1)\n",
            "Collecting multiprocess>=0.70 (from vsketch[colab])\n",
            "  Downloading multiprocess-0.70.16-py310-none-any.whl (134 kB)\n",
            "\u001b[2K     \u001b[90m━━━━━━━━━━━━━━━━━━━━━━━━━━━━━━━━━━━━━━━━\u001b[0m \u001b[32m134.8/134.8 kB\u001b[0m \u001b[31m2.0 MB/s\u001b[0m eta \u001b[36m0:00:00\u001b[0m\n",
            "\u001b[?25hRequirement already satisfied: numpy<2,>=1.20.1 in /usr/local/lib/python3.10/dist-packages (from vsketch[colab]) (1.25.2)\n",
            "Collecting pnoise>=0.2.0 (from vsketch[colab])\n",
            "  Downloading pnoise-0.2.0-py3-none-any.whl (13 kB)\n",
            "Collecting vpype[all]==1.14 (from vsketch[colab])\n",
            "  Downloading vpype-1.14.0-py3-none-any.whl (542 kB)\n",
            "\u001b[2K     \u001b[90m━━━━━━━━━━━━━━━━━━━━━━━━━━━━━━━━━━━━━━━━\u001b[0m \u001b[32m542.5/542.5 kB\u001b[0m \u001b[31m17.1 MB/s\u001b[0m eta \u001b[36m0:00:00\u001b[0m\n",
            "\u001b[?25hCollecting watchfiles>=0.12 (from vsketch[colab])\n",
            "  Downloading watchfiles-0.22.0-cp310-cp310-manylinux_2_17_x86_64.manylinux2014_x86_64.whl (1.2 MB)\n",
            "\u001b[2K     \u001b[90m━━━━━━━━━━━━━━━━━━━━━━━━━━━━━━━━━━━━━━━━\u001b[0m \u001b[32m1.2/1.2 MB\u001b[0m \u001b[31m23.7 MB/s\u001b[0m eta \u001b[36m0:00:00\u001b[0m\n",
            "\u001b[?25hCollecting asteval>=0.9.26 (from vpype[all]==1.14->vsketch[colab])\n",
            "  Downloading asteval-0.9.33-py3-none-any.whl (20 kB)\n",
            "Requirement already satisfied: cachetools>=4.2.2 in /usr/local/lib/python3.10/dist-packages (from vpype[all]==1.14->vsketch[colab]) (5.3.3)\n",
            "Requirement already satisfied: click<8.2.0,>=8.0.1 in /usr/local/lib/python3.10/dist-packages (from vpype[all]==1.14->vsketch[colab]) (8.1.7)\n",
            "Collecting pyphen<0.15.0,>=0.14.0 (from vpype[all]==1.14->vsketch[colab])\n",
            "  Downloading pyphen-0.14.0-py3-none-any.whl (2.0 MB)\n",
            "\u001b[2K     \u001b[90m━━━━━━━━━━━━━━━━━━━━━━━━━━━━━━━━━━━━━━━━\u001b[0m \u001b[32m2.0/2.0 MB\u001b[0m \u001b[31m50.3 MB/s\u001b[0m eta \u001b[36m0:00:00\u001b[0m\n",
            "\u001b[?25hRequirement already satisfied: scipy>=1.6 in /usr/local/lib/python3.10/dist-packages (from vpype[all]==1.14->vsketch[colab]) (1.11.4)\n",
            "Collecting svgelements>=1.6.10 (from vpype[all]==1.14->vsketch[colab])\n",
            "  Downloading svgelements-1.9.6-py2.py3-none-any.whl (137 kB)\n",
            "\u001b[2K     \u001b[90m━━━━━━━━━━━━━━━━━━━━━━━━━━━━━━━━━━━━━━━━\u001b[0m \u001b[32m137.9/137.9 kB\u001b[0m \u001b[31m14.9 MB/s\u001b[0m eta \u001b[36m0:00:00\u001b[0m\n",
            "\u001b[?25hCollecting svgwrite<1.5,>=1.4 (from vpype[all]==1.14->vsketch[colab])\n",
            "  Downloading svgwrite-1.4.3-py3-none-any.whl (67 kB)\n",
            "\u001b[2K     \u001b[90m━━━━━━━━━━━━━━━━━━━━━━━━━━━━━━━━━━━━━━━━\u001b[0m \u001b[32m67.1/67.1 kB\u001b[0m \u001b[31m7.1 MB/s\u001b[0m eta \u001b[36m0:00:00\u001b[0m\n",
            "\u001b[?25hRequirement already satisfied: tomli>=2.0.0 in /usr/local/lib/python3.10/dist-packages (from vpype[all]==1.14->vsketch[colab]) (2.0.1)\n",
            "Requirement already satisfied: Pillow>=9.0.1 in /usr/local/lib/python3.10/dist-packages (from vpype[all]==1.14->vsketch[colab]) (9.4.0)\n",
            "Collecting glcontext>=2.3.2 (from vpype[all]==1.14->vsketch[colab])\n",
            "  Downloading glcontext-2.5.0-cp310-cp310-manylinux_2_5_x86_64.manylinux1_x86_64.manylinux_2_17_x86_64.manylinux2014_x86_64.whl (51 kB)\n",
            "\u001b[2K     \u001b[90m━━━━━━━━━━━━━━━━━━━━━━━━━━━━━━━━━━━━━━━━\u001b[0m \u001b[32m51.5/51.5 kB\u001b[0m \u001b[31m6.4 MB/s\u001b[0m eta \u001b[36m0:00:00\u001b[0m\n",
            "\u001b[?25hCollecting moderngl!=5.7.1,!=5.7.2,>=5.6.2 (from vpype[all]==1.14->vsketch[colab])\n",
            "  Downloading moderngl-5.10.0-cp310-cp310-manylinux_2_17_x86_64.manylinux2014_x86_64.whl (267 kB)\n",
            "\u001b[2K     \u001b[90m━━━━━━━━━━━━━━━━━━━━━━━━━━━━━━━━━━━━━━━━\u001b[0m \u001b[32m267.7/267.7 kB\u001b[0m \u001b[31m23.4 MB/s\u001b[0m eta \u001b[36m0:00:00\u001b[0m\n",
            "\u001b[?25hCollecting binaryornot>=0.4.4 (from cookiecutter>=2.1->vsketch[colab])\n",
            "  Downloading binaryornot-0.4.4-py2.py3-none-any.whl (9.0 kB)\n",
            "Requirement already satisfied: Jinja2<4.0.0,>=2.7 in /usr/local/lib/python3.10/dist-packages (from cookiecutter>=2.1->vsketch[colab]) (3.1.4)\n",
            "Requirement already satisfied: pyyaml>=5.3.1 in /usr/local/lib/python3.10/dist-packages (from cookiecutter>=2.1->vsketch[colab]) (6.0.1)\n",
            "Requirement already satisfied: python-slugify>=4.0.0 in /usr/local/lib/python3.10/dist-packages (from cookiecutter>=2.1->vsketch[colab]) (8.0.4)\n",
            "Requirement already satisfied: requests>=2.23.0 in /usr/local/lib/python3.10/dist-packages (from cookiecutter>=2.1->vsketch[colab]) (2.31.0)\n",
            "Collecting arrow (from cookiecutter>=2.1->vsketch[colab])\n",
            "  Downloading arrow-1.3.0-py3-none-any.whl (66 kB)\n",
            "\u001b[2K     \u001b[90m━━━━━━━━━━━━━━━━━━━━━━━━━━━━━━━━━━━━━━━━\u001b[0m \u001b[32m66.4/66.4 kB\u001b[0m \u001b[31m7.1 MB/s\u001b[0m eta \u001b[36m0:00:00\u001b[0m\n",
            "\u001b[?25hRequirement already satisfied: rich in /usr/local/lib/python3.10/dist-packages (from cookiecutter>=2.1->vsketch[colab]) (13.7.1)\n",
            "Requirement already satisfied: contourpy>=1.0.1 in /usr/local/lib/python3.10/dist-packages (from matplotlib>=3.3.3->vsketch[colab]) (1.2.1)\n",
            "Requirement already satisfied: cycler>=0.10 in /usr/local/lib/python3.10/dist-packages (from matplotlib>=3.3.3->vsketch[colab]) (0.12.1)\n",
            "Requirement already satisfied: fonttools>=4.22.0 in /usr/local/lib/python3.10/dist-packages (from matplotlib>=3.3.3->vsketch[colab]) (4.53.0)\n",
            "Requirement already satisfied: kiwisolver>=1.0.1 in /usr/local/lib/python3.10/dist-packages (from matplotlib>=3.3.3->vsketch[colab]) (1.4.5)\n",
            "Requirement already satisfied: packaging>=20.0 in /usr/local/lib/python3.10/dist-packages (from matplotlib>=3.3.3->vsketch[colab]) (24.0)\n",
            "Requirement already satisfied: pyparsing>=2.3.1 in /usr/local/lib/python3.10/dist-packages (from matplotlib>=3.3.3->vsketch[colab]) (3.1.2)\n",
            "Requirement already satisfied: python-dateutil>=2.7 in /usr/local/lib/python3.10/dist-packages (from matplotlib>=3.3.3->vsketch[colab]) (2.8.2)\n",
            "Collecting dill>=0.3.8 (from multiprocess>=0.70->vsketch[colab])\n",
            "  Downloading dill-0.3.8-py3-none-any.whl (116 kB)\n",
            "\u001b[2K     \u001b[90m━━━━━━━━━━━━━━━━━━━━━━━━━━━━━━━━━━━━━━━━\u001b[0m \u001b[32m116.3/116.3 kB\u001b[0m \u001b[31m13.2 MB/s\u001b[0m eta \u001b[36m0:00:00\u001b[0m\n",
            "\u001b[?25hCollecting shiboken6==6.7.1 (from PySide6>=6.3.2->vsketch[colab])\n",
            "  Downloading shiboken6-6.7.1-cp39-abi3-manylinux_2_28_x86_64.whl (188 kB)\n",
            "\u001b[2K     \u001b[90m━━━━━━━━━━━━━━━━━━━━━━━━━━━━━━━━━━━━━━━━\u001b[0m \u001b[32m188.4/188.4 kB\u001b[0m \u001b[31m18.6 MB/s\u001b[0m eta \u001b[36m0:00:00\u001b[0m\n",
            "\u001b[?25hCollecting PySide6-Essentials==6.7.1 (from PySide6>=6.3.2->vsketch[colab])\n",
            "  Downloading PySide6_Essentials-6.7.1-cp39-abi3-manylinux_2_28_x86_64.whl (87.6 MB)\n",
            "\u001b[2K     \u001b[90m━━━━━━━━━━━━━━━━━━━━━━━━━━━━━━━━━━━━━━━━\u001b[0m \u001b[32m87.6/87.6 MB\u001b[0m \u001b[31m8.8 MB/s\u001b[0m eta \u001b[36m0:00:00\u001b[0m\n",
            "\u001b[?25hCollecting PySide6-Addons==6.7.1 (from PySide6>=6.3.2->vsketch[colab])\n",
            "  Downloading PySide6_Addons-6.7.1-cp39-abi3-manylinux_2_28_x86_64.whl (137.4 MB)\n",
            "\u001b[2K     \u001b[90m━━━━━━━━━━━━━━━━━━━━━━━━━━━━━━━━━━━━━━━━\u001b[0m \u001b[32m137.4/137.4 MB\u001b[0m \u001b[31m8.1 MB/s\u001b[0m eta \u001b[36m0:00:00\u001b[0m\n",
            "\u001b[?25h\u001b[33mWARNING: shapely 2.0.4 does not provide the extra 'vectorized'\u001b[0m\u001b[33m\n",
            "\u001b[0mRequirement already satisfied: anyio>=3.0.0 in /usr/local/lib/python3.10/dist-packages (from watchfiles>=0.12->vsketch[colab]) (3.7.1)\n",
            "Requirement already satisfied: idna>=2.8 in /usr/local/lib/python3.10/dist-packages (from anyio>=3.0.0->watchfiles>=0.12->vsketch[colab]) (3.7)\n",
            "Requirement already satisfied: sniffio>=1.1 in /usr/local/lib/python3.10/dist-packages (from anyio>=3.0.0->watchfiles>=0.12->vsketch[colab]) (1.3.1)\n",
            "Requirement already satisfied: exceptiongroup in /usr/local/lib/python3.10/dist-packages (from anyio>=3.0.0->watchfiles>=0.12->vsketch[colab]) (1.2.1)\n",
            "Requirement already satisfied: chardet>=3.0.2 in /usr/local/lib/python3.10/dist-packages (from binaryornot>=0.4.4->cookiecutter>=2.1->vsketch[colab]) (5.2.0)\n",
            "Requirement already satisfied: MarkupSafe>=2.0 in /usr/local/lib/python3.10/dist-packages (from Jinja2<4.0.0,>=2.7->cookiecutter>=2.1->vsketch[colab]) (2.1.5)\n",
            "Requirement already satisfied: six>=1.5 in /usr/local/lib/python3.10/dist-packages (from python-dateutil>=2.7->matplotlib>=3.3.3->vsketch[colab]) (1.16.0)\n",
            "Requirement already satisfied: text-unidecode>=1.3 in /usr/local/lib/python3.10/dist-packages (from python-slugify>=4.0.0->cookiecutter>=2.1->vsketch[colab]) (1.3)\n",
            "Requirement already satisfied: charset-normalizer<4,>=2 in /usr/local/lib/python3.10/dist-packages (from requests>=2.23.0->cookiecutter>=2.1->vsketch[colab]) (3.3.2)\n",
            "Requirement already satisfied: urllib3<3,>=1.21.1 in /usr/local/lib/python3.10/dist-packages (from requests>=2.23.0->cookiecutter>=2.1->vsketch[colab]) (2.0.7)\n",
            "Requirement already satisfied: certifi>=2017.4.17 in /usr/local/lib/python3.10/dist-packages (from requests>=2.23.0->cookiecutter>=2.1->vsketch[colab]) (2024.6.2)\n",
            "Collecting types-python-dateutil>=2.8.10 (from arrow->cookiecutter>=2.1->vsketch[colab])\n",
            "  Downloading types_python_dateutil-2.9.0.20240316-py3-none-any.whl (9.7 kB)\n",
            "Requirement already satisfied: markdown-it-py>=2.2.0 in /usr/local/lib/python3.10/dist-packages (from rich->cookiecutter>=2.1->vsketch[colab]) (3.0.0)\n",
            "Requirement already satisfied: pygments<3.0.0,>=2.13.0 in /usr/local/lib/python3.10/dist-packages (from rich->cookiecutter>=2.1->vsketch[colab]) (2.16.1)\n",
            "Requirement already satisfied: mdurl~=0.1 in /usr/local/lib/python3.10/dist-packages (from markdown-it-py>=2.2.0->rich->cookiecutter>=2.1->vsketch[colab]) (0.1.2)\n",
            "Building wheels for collected packages: vsketch\n",
            "  Building wheel for vsketch (pyproject.toml) ... \u001b[?25l\u001b[?25hdone\n",
            "  Created wheel for vsketch: filename=vsketch-1.1.0-py3-none-any.whl size=68539 sha256=95490fb69834cc54217352b64631222c4a8d68fe68870fb4f9cc5f380bb0aa8e\n",
            "  Stored in directory: /tmp/pip-ephem-wheel-cache-mbcwrok6/wheels/59/8a/52/af6001d2d8aa45b06d17536c13a00937e5007c6dc6d4c432ea\n",
            "Successfully built vsketch\n",
            "Installing collected packages: svgelements, glcontext, types-python-dateutil, svgwrite, shiboken6, pyphen, pnoise, moderngl, dill, binaryornot, asteval, watchfiles, PySide6-Essentials, multiprocess, arrow, vpype, PySide6-Addons, cookiecutter, PySide6, vsketch\n",
            "Successfully installed PySide6-6.7.1 PySide6-Addons-6.7.1 PySide6-Essentials-6.7.1 arrow-1.3.0 asteval-0.9.33 binaryornot-0.4.4 cookiecutter-2.6.0 dill-0.3.8 glcontext-2.5.0 moderngl-5.10.0 multiprocess-0.70.16 pnoise-0.2.0 pyphen-0.14.0 shiboken6-6.7.1 svgelements-1.9.6 svgwrite-1.4.3 types-python-dateutil-2.9.0.20240316 vpype-1.14.0 vsketch-1.1.0 watchfiles-0.22.0\n"
          ]
        }
      ],
      "source": [
        "!pip install git+https://github.com/abey79/vsketch#egg=vsketch[colab]"
      ]
    },
    {
      "cell_type": "markdown",
      "metadata": {
        "id": "B8G7B0v0QToC"
      },
      "source": [
        "### sketch"
      ]
    },
    {
      "cell_type": "code",
      "execution_count": 7,
      "metadata": {
        "colab": {
          "base_uri": "https://localhost:8080/",
          "height": 406
        },
        "id": "BvYUlUXXbsod",
        "outputId": "6b9c6617-f312-4693-e363-a665bb2c90e9"
      },
      "outputs": [
        {
          "output_type": "display_data",
          "data": {
            "text/plain": [
              "<Figure size 640x480 with 1 Axes>"
            ],
            "image/png": "[encoded data removed]"
          },
          "metadata": {}
        }
      ],
      "source": [
        "import vsketch\n",
        "import numpy as np\n",
        "\n",
        "\n",
        "class RandomLinesSketch(vsketch.SketchClass):\n",
        "    # Sketch parameters:\n",
        "    # radius = vsketch.Param(2.0)\n",
        "\n",
        "    def draw(self, vsk: vsketch.Vsketch) -> None:\n",
        "        vsk.size(\"a1\", landscape=False)\n",
        "        vsk.scale(\"cm\")\n",
        "\n",
        "        allColumnsPoints =  []\n",
        "        for row in range(20):\n",
        "            columnPoints = []\n",
        "            for col in range(25):\n",
        "                x = row + vsk.random(1.5)\n",
        "                y = col + vsk.random(1)\n",
        "                columnPoints.append((x,y))\n",
        "            allColumnsPoints.append(columnPoints)\n",
        "\n",
        "        for index in range(len(allColumnsPoints) -1):\n",
        "            currentColumnPoints = allColumnsPoints[index]\n",
        "            nextColumnPoints = allColumnsPoints[index+1]\n",
        "\n",
        "            currentColumnPointsUnzipped = zip(*currentColumnPoints)\n",
        "            currentColumnPointsUnzipped = list(currentColumnPointsUnzipped)\n",
        "            xTuples = currentColumnPointsUnzipped[0]\n",
        "            yTuples = currentColumnPointsUnzipped[1]\n",
        "            xCoordinatesCurrentColumn = np.array(xTuples)\n",
        "            yCoordinatesCurrentColumn = np.array(yTuples)\n",
        "\n",
        "            nextColumnPointsUnzipped = zip(*nextColumnPoints)\n",
        "            nextColumnPointsUnzipped = list(nextColumnPointsUnzipped)\n",
        "            xTuples = nextColumnPointsUnzipped[0]\n",
        "            yTuples = nextColumnPointsUnzipped[1]\n",
        "            xCoordinatesNextColumn = np.array(xTuples)\n",
        "            yCoordinatesNextColumn = np.array(yTuples)\n",
        "\n",
        "            interpolation_steps = 9\n",
        "            for interpolation_step in range(interpolation_steps):\n",
        "                interpolated_x = vsk.lerp(xCoordinatesCurrentColumn, xCoordinatesNextColumn, interpolation_step/interpolation_steps)\n",
        "                interpolated_y = vsk.lerp(yCoordinatesCurrentColumn, yCoordinatesNextColumn, interpolation_step/interpolation_steps)\n",
        "                interpolated_coordinates = zip(interpolated_x, interpolated_y)\n",
        "                vsk.polygon(interpolated_coordinates)\n",
        "\n",
        "    def finalize(self, vsk: vsketch.Vsketch) -> None:\n",
        "        vsk.vpype(\"linemerge linesimplify reloop linesort\")\n",
        "\n",
        "\n",
        "if __name__ == \"__main__\":\n",
        "    RandomLinesSketch.display()\n"
      ]
    }
  ],
  "metadata": {
    "colab": {
      "collapsed_sections": [
        "fie8YrVfRT-U"
      ],
      "name": "vsketch_google_colab_basic_setup",
      "provenance": [],
      "include_colab_link": true
    },
    "kernelspec": {
      "display_name": "Python 3",
      "language": "python",
      "name": "python3"
    },
    "language_info": {
      "codemirror_mode": {
        "name": "ipython",
        "version": 3
      },
      "file_extension": ".py",
      "mimetype": "text/x-python",
      "name": "python",
      "nbconvert_exporter": "python",
      "pygments_lexer": "ipython3",
      "version": "3.8.5"
    }
  },
  "nbformat": 4,
  "nbformat_minor": 0
}